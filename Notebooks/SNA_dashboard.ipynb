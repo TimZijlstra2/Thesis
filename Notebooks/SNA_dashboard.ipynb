{
 "cells": [
  {
   "cell_type": "markdown",
   "id": "f6985163",
   "metadata": {},
   "source": [
    "# Toxicity Network Dashboard for Eredivisie Twitter Communities\n",
    "\n",
    "This notebook provides an interactive dashboard for exploring the structure and spread of toxicity in Twitter reply networks related to Eredivisie football clubs.\n",
    "\n",
    "The dashboard was developed as part of a broader tool that combines NLP-based toxicity detection with Social Network Analysis (SNA). It is intended for visual exploration of the final dataset and does not require rerunning the full computation pipeline.\n",
    "\n",
    "### What this dashboard offers\n",
    "\n",
    "- **Matchday analysis**: visualize per-match reply networks, toxic user distributions, and key community clusters.\n",
    "- **Club-level analysis**: explore reply networks, top communities, and toxicity concentrations per club.\n",
    "- **Club comparison dashboard**: compare clubs based on % toxic users, community structure, and engagement volume.\n",
    "\n",
    "All visualizations are based on the output generated in `SNA_TestV2.ipynb`, and require the preprocessed input files listed below.\n"
   ]
  },
  {
   "cell_type": "markdown",
   "id": "3df6160f",
   "metadata": {},
   "source": [
    "## Required input files\n",
    "\n",
    "To launch the dashboard, the following preprocessed files must be available in the working directory:\n",
    "\n",
    "- `final_sna_dataframe.csv` — the full dataset containing tweet metadata and toxicity labels\n",
    "- `toxic_match_metadata_cleanedV2.csv` — structured metadata per match\n",
    "- `match_networks.pkl` — precomputed match-level reply networks\n",
    "- `club_networks.pkl` — precomputed club-level reply networks\n",
    "\n",
    "These files are generated and saved in `SNA_TestV2.ipynb`.\n"
   ]
  },
  {
   "cell_type": "code",
   "execution_count": 4,
   "id": "36578a5f",
   "metadata": {},
   "outputs": [],
   "source": [
    "# ==============================================\n",
    "# Step 1: Import required packages\n",
    "# ==============================================\n",
    "\n",
    "import pandas as pd\n",
    "import pickle\n",
    "\n",
    "# Load dashboard logic\n",
    "from dashboard import launch_dashboard"
   ]
  },
  {
   "cell_type": "code",
   "execution_count": 5,
   "id": "665c646c",
   "metadata": {},
   "outputs": [],
   "source": [
    "# ==============================================\n",
    "# Step 2: Load input data and network files\n",
    "# ==============================================\n",
    "\n",
    "# Load annotated tweet data and match metadata\n",
    "sna_df = pd.read_csv(\"C:/Master/Master project/final_sna_dataframe.csv\")\n",
    "match_metadata = pd.read_csv(\"C:/Master/Master project/toxic_match_metadata_cleanedV2.csv\")\n",
    "\n",
    "# Load precomputed networks\n",
    "with open(\"C:/Master/Master project/match_networks.pkl\", \"rb\") as f:\n",
    "    match_networks = pickle.load(f)\n",
    "\n",
    "with open(\"C:/Master/Master project/club_networks.pkl\", \"rb\") as f:\n",
    "    club_networks = pickle.load(f)\n"
   ]
  },
  {
   "cell_type": "markdown",
   "id": "d3e4ddb6",
   "metadata": {},
   "source": [
    "## Launch the interactive dashboard\n",
    "\n",
    "The cell below launches the full dashboard interface using the precomputed data and networks.\n",
    "\n",
    "The interface consists of three tabs:\n",
    "\n",
    "- **By Matchday**: visualize reply networks and toxic user clusters for individual matches.\n",
    "- **By Club**: inspect reply structures and community toxicity per Eredivisie club.\n",
    "- **Club Comparison**: compare clubs based on key metrics such as the percentage of toxic users, number of communities, and largest community size.\n",
    "\n",
    "This dashboard is designed to support exploratory analysis and figure generation without needing to re-run the underlying SNA pipeline."
   ]
  },
  {
   "cell_type": "code",
   "execution_count": 6,
   "id": "065b863f",
   "metadata": {},
   "outputs": [
    {
     "data": {
      "application/vnd.jupyter.widget-view+json": {
       "model_id": "8dc4784a39eb46e6856254a634eda9fb",
       "version_major": 2,
       "version_minor": 0
      },
      "text/plain": [
       "Tab(children=(VBox(children=(Dropdown(description='Matchday:', options={'Go Ahead Eagles vs RKC Waalwijk (M007…"
      ]
     },
     "metadata": {},
     "output_type": "display_data"
    }
   ],
   "source": [
    "# ==============================================\n",
    "# Step 3: Launch the interactive dashboard\n",
    "# ==============================================\n",
    "\n",
    "# Launch the dashboard with the loaded data\n",
    "launch_dashboard(match_networks, club_networks, sna_df, match_metadata)"
   ]
  }
 ],
 "metadata": {
  "kernelspec": {
   "display_name": "Introduction",
   "language": "python",
   "name": "python3"
  },
  "language_info": {
   "codemirror_mode": {
    "name": "ipython",
    "version": 3
   },
   "file_extension": ".py",
   "mimetype": "text/x-python",
   "name": "python",
   "nbconvert_exporter": "python",
   "pygments_lexer": "ipython3",
   "version": "3.11.9"
  }
 },
 "nbformat": 4,
 "nbformat_minor": 5
}
